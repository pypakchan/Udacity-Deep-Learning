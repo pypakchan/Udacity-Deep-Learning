{
 "cells": [
  {
   "cell_type": "markdown",
   "metadata": {},
   "source": [
    "# Neural networks with PyTorch\n",
    "\n",
    "Deep learning networks tend to be massive with dozens or hundreds of layers, that's where the term \"deep\" comes from. You can build one of these deep networks using only weight matrices as we did in the previous notebook, but in general it's very cumbersome and difficult to implement. PyTorch has a nice module `nn` that provides a nice way to efficiently build large neural networks."
   ]
  },
  {
   "cell_type": "code",
   "execution_count": 1,
   "metadata": {},
   "outputs": [],
   "source": [
    "# Import necessary packages\n",
    "\n",
    "%matplotlib inline\n",
    "%config InlineBackend.figure_format = 'retina'\n",
    "\n",
    "import numpy as np\n",
    "import torch\n",
    "\n",
    "import helper\n",
    "\n",
    "import matplotlib.pyplot as plt"
   ]
  },
  {
   "cell_type": "markdown",
   "metadata": {},
   "source": [
    "\n",
    "Now we're going to build a larger network that can solve a (formerly) difficult problem, identifying text in an image. Here we'll use the MNIST dataset which consists of greyscale handwritten digits. Each image is 28x28 pixels, you can see a sample below\n",
    "\n",
    "<img src='assets/mnist.png'>\n",
    "\n",
    "Our goal is to build a neural network that can take one of these images and predict the digit in the image.\n",
    "\n",
    "First up, we need to get our dataset. This is provided through the `torchvision` package. The code below will download the MNIST dataset, then create training and test datasets for us. Don't worry too much about the details here, you'll learn more about this later."
   ]
  },
  {
   "cell_type": "code",
   "execution_count": 2,
   "metadata": {},
   "outputs": [],
   "source": [
    "# The MNIST datasets are hosted on yann.lecun.com that has moved under CloudFlare protection\n",
    "# Run this script to enable the datasets download\n",
    "# Reference: https://github.com/pytorch/vision/issues/1938\n",
    "\n",
    "from six.moves import urllib\n",
    "opener = urllib.request.build_opener()\n",
    "opener.addheaders = [('User-agent', 'Mozilla/5.0')]\n",
    "urllib.request.install_opener(opener)"
   ]
  },
  {
   "cell_type": "code",
   "execution_count": 3,
   "metadata": {},
   "outputs": [
    {
     "name": "stdout",
     "output_type": "stream",
     "text": [
      "Downloading http://yann.lecun.com/exdb/mnist/train-images-idx3-ubyte.gz to C:\\Users\\user/.pytorch/MNIST_data/MNIST\\raw\\train-images-idx3-ubyte.gz\n"
     ]
    },
    {
     "name": "stderr",
     "output_type": "stream",
     "text": [
      "100.1%"
     ]
    },
    {
     "name": "stdout",
     "output_type": "stream",
     "text": [
      "Extracting C:\\Users\\user/.pytorch/MNIST_data/MNIST\\raw\\train-images-idx3-ubyte.gz to C:\\Users\\user/.pytorch/MNIST_data/MNIST\\raw\n",
      "Downloading http://yann.lecun.com/exdb/mnist/train-labels-idx1-ubyte.gz to C:\\Users\\user/.pytorch/MNIST_data/MNIST\\raw\\train-labels-idx1-ubyte.gz\n"
     ]
    },
    {
     "name": "stderr",
     "output_type": "stream",
     "text": [
      "113.5%"
     ]
    },
    {
     "name": "stdout",
     "output_type": "stream",
     "text": [
      "Extracting C:\\Users\\user/.pytorch/MNIST_data/MNIST\\raw\\train-labels-idx1-ubyte.gz to C:\\Users\\user/.pytorch/MNIST_data/MNIST\\raw\n",
      "Downloading http://yann.lecun.com/exdb/mnist/t10k-images-idx3-ubyte.gz to C:\\Users\\user/.pytorch/MNIST_data/MNIST\\raw\\t10k-images-idx3-ubyte.gz\n"
     ]
    },
    {
     "name": "stderr",
     "output_type": "stream",
     "text": [
      "100.4%"
     ]
    },
    {
     "name": "stdout",
     "output_type": "stream",
     "text": [
      "Extracting C:\\Users\\user/.pytorch/MNIST_data/MNIST\\raw\\t10k-images-idx3-ubyte.gz to C:\\Users\\user/.pytorch/MNIST_data/MNIST\\raw\n",
      "Downloading http://yann.lecun.com/exdb/mnist/t10k-labels-idx1-ubyte.gz to C:\\Users\\user/.pytorch/MNIST_data/MNIST\\raw\\t10k-labels-idx1-ubyte.gz\n"
     ]
    },
    {
     "name": "stderr",
     "output_type": "stream",
     "text": [
      "180.4%"
     ]
    },
    {
     "name": "stdout",
     "output_type": "stream",
     "text": [
      "Extracting C:\\Users\\user/.pytorch/MNIST_data/MNIST\\raw\\t10k-labels-idx1-ubyte.gz to C:\\Users\\user/.pytorch/MNIST_data/MNIST\\raw\n",
      "Processing...\n",
      "Done!\n"
     ]
    },
    {
     "name": "stderr",
     "output_type": "stream",
     "text": [
      "C:\\Users\\user\\anaconda3\\envs\\deep-learning\\lib\\site-packages\\torchvision\\datasets\\mnist.py:469: UserWarning: The given NumPy array is not writeable, and PyTorch does not support non-writeable tensors. This means you can write to the underlying (supposedly non-writeable) NumPy array using the tensor. You may want to copy the array to protect its data or make it writeable before converting it to a tensor. This type of warning will be suppressed for the rest of this program. (Triggered internally at  ..\\torch\\csrc\\utils\\tensor_numpy.cpp:141.)\n",
      "  return torch.from_numpy(parsed.astype(m[2], copy=False)).view(*s)\n"
     ]
    }
   ],
   "source": [
    "### Run this cell\n",
    "\n",
    "from torchvision import datasets, transforms\n",
    "\n",
    "# Define a transform to normalize the data\n",
    "transform = transforms.Compose([transforms.ToTensor(),\n",
    "                              transforms.Normalize((0.5,), (0.5,)),\n",
    "                              ])\n",
    "\n",
    "# Download and load the training data\n",
    "trainset = datasets.MNIST('~/.pytorch/MNIST_data/', download=True, train=True, transform=transform)\n",
    "trainloader = torch.utils.data.DataLoader(trainset, batch_size=64, shuffle=True)"
   ]
  },
  {
   "cell_type": "markdown",
   "metadata": {},
   "source": [
    "We have the training data loaded into `trainloader` and we make that an iterator with `iter(trainloader)`. Later, we'll use this to loop through the dataset for training, like\n",
    "\n",
    "```python\n",
    "for image, label in trainloader:\n",
    "    ## do things with images and labels\n",
    "```\n",
    "\n",
    "You'll notice I created the `trainloader` with a batch size of 64, and `shuffle=True`. The batch size is the number of images we get in one iteration from the data loader and pass through our network, often called a *batch*. And `shuffle=True` tells it to shuffle the dataset every time we start going through the data loader again. But here I'm just grabbing the first batch so we can check out the data. We can see below that `images` is just a tensor with size `(64, 1, 28, 28)`. So, 64 images per batch, 1 color channel, and 28x28 images."
   ]
  },
  {
   "cell_type": "code",
   "execution_count": 4,
   "metadata": {},
   "outputs": [
    {
     "name": "stdout",
     "output_type": "stream",
     "text": [
      "<class 'torch.Tensor'>\n",
      "torch.Size([64, 1, 28, 28])\n",
      "torch.Size([64])\n"
     ]
    }
   ],
   "source": [
    "dataiter = iter(trainloader)\n",
    "images, labels = dataiter.next()\n",
    "print(type(images))\n",
    "print(images.shape)\n",
    "print(labels.shape)"
   ]
  },
  {
   "cell_type": "markdown",
   "metadata": {},
   "source": [
    "This is what one of the images looks like. "
   ]
  },
  {
   "cell_type": "code",
   "execution_count": 5,
   "metadata": {},
   "outputs": [
    {
     "data": {
      "image/png": "[encoded data removed]",
      "text/plain": [
       "<Figure size 432x288 with 1 Axes>"
      ]
     },
     "metadata": {
      "image/png": {
       "height": 248,
       "width": 251
      },
      "needs_background": "light"
     },
     "output_type": "display_data"
    }
   ],
   "source": [
    "plt.imshow(images[1].numpy().squeeze(), cmap='Greys_r');"
   ]
  },
  {
   "cell_type": "markdown",
   "metadata": {},
   "source": [
    "First, let's try to build a simple network for this dataset using weight matrices and matrix multiplications. Then, we'll see how to do it using PyTorch's `nn` module which provides a much more convenient and powerful method for defining network architectures.\n",
    "\n",
    "The networks you've seen so far are called *fully-connected* or *dense* networks. Each unit in one layer is connected to each unit in the next layer. In fully-connected networks, the input to each layer must be a one-dimensional vector (which can be stacked into a 2D tensor as a batch of multiple examples). However, our images are 28x28 2D tensors, so we need to convert them into 1D vectors. Thinking about sizes, we need to convert the batch of images with shape `(64, 1, 28, 28)` to a have a shape of `(64, 784)`, 784 is 28 times 28. This is typically called *flattening*, we flattened the 2D images into 1D vectors.\n",
    "\n",
    "Previously you built a network with one output unit. Here we need 10 output units, one for each digit. We want our network to predict the digit shown in an image, so what we'll do is calculate probabilities that the image is of any one digit or class. This ends up being a discrete probability distribution over the classes (digits) that tells us the most likely class for the image. That means we need 10 output units for the 10 classes (digits). We'll see how to convert the network output into a probability distribution next.\n",
    "\n",
    "> **Exercise:** Flatten the batch of images `images`. Then build a multi-layer network with 784 input units, 256 hidden units, and 10 output units using random tensors for the weights and biases. For now, use a sigmoid activation for the hidden layer. Leave the output layer without an activation, we'll add one that gives us a probability distribution next."
   ]
  },
  {
   "cell_type": "code",
   "execution_count": 12,
   "metadata": {},
   "outputs": [
    {
     "data": {
      "text/plain": [
       "torch.Size([64, 784])"
      ]
     },
     "execution_count": 12,
     "metadata": {},
     "output_type": "execute_result"
    }
   ],
   "source": [
    "images = images.view(64, 28 * 28)\n",
    "images.shape"
   ]
  },
  {
   "cell_type": "code",
   "execution_count": 20,
   "metadata": {},
   "outputs": [
    {
     "data": {
      "text/plain": [
       "tensor([[9.9784e-01, 9.6415e-01, 1.1843e-07, 9.6717e-06, 1.3838e-02, 1.9154e-04,\n",
       "         3.9854e-03, 9.7450e-01, 1.0000e+00, 2.3200e-11],\n",
       "        [9.9998e-01, 9.9994e-01, 3.1035e-01, 9.9695e-04, 1.5410e-07, 4.7634e-04,\n",
       "         1.8719e-03, 9.9995e-01, 6.6231e-02, 7.8317e-09],\n",
       "        [9.9979e-01, 7.5719e-01, 9.9542e-01, 7.2150e-05, 2.0160e-01, 9.4140e-02,\n",
       "         1.1130e-05, 9.9998e-01, 1.0000e+00, 1.3550e-05],\n",
       "        [9.9996e-01, 1.1366e-02, 6.4916e-06, 9.6912e-13, 8.7085e-01, 3.1053e-04,\n",
       "         8.7317e-01, 9.9522e-01, 1.0000e+00, 8.6092e-12],\n",
       "        [7.9945e-01, 6.6705e-01, 3.3731e-01, 2.7541e-04, 2.2574e-03, 6.5120e-02,\n",
       "         7.2878e-04, 9.9653e-01, 9.9909e-01, 5.9976e-08],\n",
       "        [9.9908e-01, 9.9971e-01, 1.7018e-03, 3.0941e-05, 6.1480e-04, 8.3986e-04,\n",
       "         5.1303e-06, 9.9969e-01, 1.0000e+00, 1.2561e-09],\n",
       "        [1.0000e+00, 7.9845e-02, 1.9386e-03, 1.1256e-04, 1.5108e-04, 1.7029e-01,\n",
       "         1.1215e-08, 9.1327e-01, 1.0000e+00, 1.6824e-04],\n",
       "        [1.0000e+00, 9.2471e-01, 7.6185e-01, 2.7790e-05, 9.4413e-01, 3.9503e-02,\n",
       "         4.7366e-06, 9.9979e-01, 1.0000e+00, 3.2685e-06],\n",
       "        [3.1636e-01, 9.9755e-01, 7.7951e-04, 1.3032e-01, 1.0553e-04, 3.3609e-05,\n",
       "         1.3589e-04, 5.9652e-03, 9.9996e-01, 6.6220e-07],\n",
       "        [1.0000e+00, 9.3030e-01, 6.5344e-03, 3.9499e-06, 9.0485e-01, 5.6652e-04,\n",
       "         5.4625e-02, 9.9999e-01, 1.0000e+00, 2.4881e-07],\n",
       "        [9.9999e-01, 2.8137e-01, 5.8210e-04, 7.0948e-06, 3.1842e-02, 3.8687e-02,\n",
       "         5.1813e-01, 8.9160e-01, 1.0000e+00, 2.3506e-05],\n",
       "        [9.6151e-01, 1.0000e+00, 4.7125e-06, 1.0339e-03, 5.9620e-04, 4.4852e-05,\n",
       "         9.7574e-08, 1.3612e-04, 1.0000e+00, 5.0321e-08],\n",
       "        [9.9985e-01, 9.4253e-04, 1.0224e-05, 5.0086e-08, 1.7955e-06, 2.1454e-03,\n",
       "         9.1466e-04, 1.0000e+00, 9.9996e-01, 1.5999e-10],\n",
       "        [1.0000e+00, 2.8035e-01, 9.1427e-01, 9.9873e-07, 9.9008e-01, 1.9804e-02,\n",
       "         8.1689e-03, 1.0000e+00, 1.0000e+00, 2.9131e-07],\n",
       "        [9.9804e-01, 8.9340e-02, 1.2345e-04, 4.9464e-04, 8.5327e-02, 7.6467e-05,\n",
       "         1.2078e-06, 9.9925e-01, 9.9984e-01, 8.8840e-05],\n",
       "        [9.6129e-01, 4.1121e-01, 8.8446e-01, 2.4578e-02, 4.0161e-04, 8.1632e-03,\n",
       "         6.4676e-07, 9.7849e-01, 9.9739e-01, 4.1459e-06],\n",
       "        [6.4177e-01, 9.9999e-01, 1.5958e-05, 2.0194e-11, 2.9989e-01, 5.3970e-02,\n",
       "         8.8222e-07, 9.9996e-01, 1.0000e+00, 3.7105e-08],\n",
       "        [9.9989e-01, 9.9510e-01, 5.5761e-05, 3.4180e-05, 4.6016e-03, 1.9826e-02,\n",
       "         2.8202e-01, 9.8069e-01, 9.6678e-01, 9.8161e-08],\n",
       "        [5.4801e-01, 9.9999e-01, 4.0522e-02, 5.9038e-06, 2.1247e-02, 1.9870e-06,\n",
       "         6.3088e-03, 9.9913e-01, 1.0000e+00, 1.4959e-12],\n",
       "        [1.0000e+00, 9.9984e-01, 1.2312e-03, 5.2253e-04, 1.1962e-02, 6.2731e-05,\n",
       "         2.5788e-07, 4.7907e-01, 1.0000e+00, 4.7653e-08],\n",
       "        [9.3193e-01, 9.1076e-01, 1.1651e-03, 1.7458e-04, 4.5460e-04, 1.1106e-03,\n",
       "         2.5815e-07, 6.2198e-01, 9.9890e-01, 2.8064e-03],\n",
       "        [9.8311e-01, 7.6347e-01, 1.8372e-01, 6.3663e-05, 6.7384e-01, 4.5081e-01,\n",
       "         2.4285e-04, 2.8752e-02, 1.0000e+00, 1.9222e-02],\n",
       "        [9.9796e-01, 9.9996e-01, 2.7674e-02, 6.9050e-09, 8.9978e-06, 9.1857e-04,\n",
       "         6.0986e-06, 9.8783e-01, 1.0000e+00, 2.0014e-07],\n",
       "        [9.9992e-01, 9.4074e-01, 2.0977e-06, 1.0372e-04, 2.4496e-04, 1.7416e-01,\n",
       "         2.3070e-04, 9.9994e-01, 1.0000e+00, 2.7034e-07],\n",
       "        [9.9955e-01, 5.9254e-01, 4.2664e-01, 1.6140e-07, 2.2163e-01, 1.1524e-01,\n",
       "         7.9357e-04, 7.4313e-01, 1.0000e+00, 9.5630e-08],\n",
       "        [9.8777e-01, 9.4267e-01, 8.2120e-05, 1.2880e-04, 1.2729e-02, 1.1802e-04,\n",
       "         6.7756e-02, 1.2182e-01, 1.0000e+00, 2.7069e-06],\n",
       "        [9.7831e-01, 9.9953e-01, 1.5035e-02, 1.4165e-06, 1.5454e-03, 9.4891e-01,\n",
       "         1.4122e-01, 9.9997e-01, 1.0000e+00, 1.9223e-12],\n",
       "        [9.9993e-01, 5.0172e-01, 1.1121e-04, 5.1968e-05, 1.5389e-03, 1.6379e-02,\n",
       "         3.9181e-02, 3.1805e-01, 9.9992e-01, 3.2529e-03],\n",
       "        [9.9046e-01, 3.7723e-02, 3.3021e-04, 8.7789e-05, 9.8338e-01, 4.0287e-01,\n",
       "         4.1562e-04, 9.9987e-01, 9.9999e-01, 6.6921e-08],\n",
       "        [6.7521e-02, 9.2591e-01, 9.9626e-01, 5.7368e-02, 2.4893e-03, 9.5936e-01,\n",
       "         1.7227e-02, 9.9808e-01, 1.0000e+00, 2.2973e-08],\n",
       "        [9.9307e-01, 9.7010e-01, 4.7457e-05, 3.5941e-09, 8.9010e-04, 2.9097e-04,\n",
       "         8.4267e-04, 1.0000e+00, 1.0000e+00, 1.7183e-11],\n",
       "        [9.8013e-01, 1.0000e+00, 9.9674e-01, 8.4599e-04, 6.1122e-04, 2.7535e-03,\n",
       "         7.9113e-05, 1.1926e-01, 9.9999e-01, 1.1442e-05],\n",
       "        [9.9961e-01, 9.9902e-01, 9.8510e-02, 1.1089e-08, 5.3897e-01, 1.7317e-03,\n",
       "         3.7726e-01, 1.0000e+00, 1.0000e+00, 9.7067e-08],\n",
       "        [9.1566e-01, 3.9137e-03, 1.7021e-04, 1.5101e-07, 2.7073e-03, 1.7739e-05,\n",
       "         6.5617e-09, 5.7158e-01, 9.6167e-01, 2.9016e-09],\n",
       "        [9.9992e-01, 5.5044e-01, 1.9842e-01, 8.1002e-07, 5.7728e-03, 1.7122e-03,\n",
       "         9.5428e-03, 9.9990e-01, 1.0000e+00, 1.9681e-10],\n",
       "        [9.9983e-01, 2.5754e-04, 2.9681e-02, 5.6631e-11, 8.9236e-03, 4.3791e-03,\n",
       "         5.2496e-01, 3.0353e-01, 9.9988e-01, 8.9702e-12],\n",
       "        [9.6479e-01, 7.0841e-01, 3.4067e-06, 3.7392e-08, 1.0743e-01, 1.7295e-03,\n",
       "         1.5954e-03, 1.0000e+00, 1.0000e+00, 5.3914e-10],\n",
       "        [9.9971e-01, 9.9989e-01, 2.7693e-03, 3.3363e-04, 9.5086e-04, 2.3179e-04,\n",
       "         1.6151e-05, 9.2663e-01, 1.0000e+00, 1.0684e-08],\n",
       "        [2.9930e-01, 4.7140e-02, 2.4793e-07, 5.9491e-08, 9.9060e-05, 5.2617e-01,\n",
       "         6.4731e-08, 1.0000e+00, 9.9949e-01, 4.5760e-08],\n",
       "        [9.9997e-01, 3.1966e-01, 1.4212e-01, 2.6689e-03, 3.8038e-01, 5.4323e-02,\n",
       "         4.6700e-03, 1.0576e-01, 9.9988e-01, 5.7715e-07],\n",
       "        [1.0000e+00, 6.7816e-01, 3.6736e-01, 2.2730e-04, 2.3654e-02, 1.0788e-01,\n",
       "         2.5338e-02, 9.9253e-01, 1.0000e+00, 9.4779e-08],\n",
       "        [4.0553e-02, 9.9993e-01, 4.6743e-05, 9.0229e-07, 5.1786e-02, 1.2475e-04,\n",
       "         4.9161e-07, 1.0000e+00, 1.0000e+00, 7.6219e-12],\n",
       "        [8.6134e-01, 1.0000e+00, 1.0606e-05, 2.5282e-06, 6.8055e-03, 2.2837e-05,\n",
       "         4.4447e-05, 9.9547e-01, 1.0000e+00, 2.7771e-05],\n",
       "        [1.0000e+00, 7.0655e-01, 9.7844e-01, 5.3293e-07, 8.9974e-01, 5.7031e-05,\n",
       "         8.0010e-05, 1.0000e+00, 1.0000e+00, 2.0891e-07],\n",
       "        [9.9991e-01, 9.9932e-01, 1.1077e-05, 2.2455e-06, 2.8080e-03, 1.6327e-02,\n",
       "         1.5997e-06, 3.4829e-01, 9.9982e-01, 7.7681e-08],\n",
       "        [9.9991e-01, 9.9863e-01, 4.1191e-01, 4.9547e-09, 1.4349e-03, 1.0323e-06,\n",
       "         8.3903e-03, 9.9960e-01, 1.0000e+00, 2.7629e-09],\n",
       "        [1.0000e+00, 7.0494e-01, 1.6944e-06, 9.5836e-04, 1.2757e-03, 2.4090e-03,\n",
       "         1.2240e-03, 9.3426e-01, 1.0000e+00, 4.8747e-11],\n",
       "        [7.5802e-01, 4.6239e-01, 1.4140e-04, 3.9790e-04, 2.2895e-05, 1.3444e-03,\n",
       "         1.5773e-06, 9.5810e-01, 9.9999e-01, 5.6776e-04],\n",
       "        [9.9999e-01, 2.0039e-05, 1.1215e-01, 2.8079e-08, 9.8038e-01, 2.0893e-02,\n",
       "         1.5024e-01, 9.8676e-01, 1.0000e+00, 7.2467e-10],\n",
       "        [9.9997e-01, 1.0000e+00, 2.4713e-02, 6.4034e-10, 5.2759e-03, 6.9839e-03,\n",
       "         1.4477e-05, 9.9876e-01, 7.7350e-01, 1.9528e-08],\n",
       "        [9.9798e-01, 4.4847e-01, 1.8461e-07, 6.1847e-10, 3.4058e-05, 3.3134e-05,\n",
       "         6.8033e-01, 9.9746e-01, 9.9993e-01, 2.1662e-09],\n",
       "        [9.9999e-01, 1.0000e+00, 4.7553e-05, 2.3043e-03, 3.0230e-05, 7.5267e-02,\n",
       "         5.6483e-06, 2.7802e-01, 9.9947e-01, 5.3035e-12],\n",
       "        [1.0000e+00, 1.0000e+00, 7.9925e-01, 2.2096e-07, 6.3097e-02, 2.5840e-04,\n",
       "         3.8635e-03, 9.8516e-01, 1.0000e+00, 3.8331e-08],\n",
       "        [1.0000e+00, 6.5285e-01, 2.5044e-05, 2.0508e-06, 3.2349e-02, 3.7850e-02,\n",
       "         8.8979e-03, 9.8616e-01, 1.0000e+00, 1.0641e-10],\n",
       "        [9.9992e-01, 9.9824e-01, 7.0495e-08, 1.0897e-09, 1.2384e-03, 1.0191e-05,\n",
       "         2.1502e-03, 9.1699e-01, 1.0000e+00, 1.3694e-09],\n",
       "        [1.0000e+00, 9.9911e-01, 1.3263e-04, 1.2924e-05, 6.8516e-05, 3.8962e-07,\n",
       "         9.6763e-03, 9.9813e-01, 9.9986e-01, 4.8251e-08],\n",
       "        [9.9992e-01, 5.1864e-01, 4.2881e-04, 1.8115e-07, 2.5067e-01, 9.6895e-03,\n",
       "         9.8089e-01, 9.9995e-01, 1.0000e+00, 4.5576e-07],\n",
       "        [9.9999e-01, 9.7692e-01, 2.7933e-07, 1.6108e-06, 2.8170e-03, 4.9591e-02,\n",
       "         5.8355e-07, 9.9999e-01, 9.9825e-01, 2.9169e-09],\n",
       "        [9.9724e-01, 1.6511e-04, 7.7178e-01, 6.2982e-04, 2.0816e-03, 5.4659e-02,\n",
       "         4.5481e-06, 1.0000e+00, 9.9567e-01, 8.8482e-04],\n",
       "        [1.0000e+00, 9.9997e-01, 2.3651e-04, 4.9275e-05, 3.0473e-03, 9.4369e-08,\n",
       "         3.0485e-06, 9.9963e-01, 9.9995e-01, 2.2107e-06],\n",
       "        [9.7570e-01, 7.5029e-01, 6.2960e-05, 9.7695e-01, 3.1484e-03, 3.7148e-01,\n",
       "         4.3297e-01, 2.7471e-01, 1.0000e+00, 2.2290e-08],\n",
       "        [5.2760e-01, 1.0000e+00, 6.5315e-04, 1.9450e-08, 1.4857e-04, 2.4442e-01,\n",
       "         1.7394e-03, 9.9999e-01, 1.0000e+00, 6.5953e-09],\n",
       "        [9.5680e-01, 6.7795e-01, 3.9479e-06, 1.7865e-09, 8.8835e-02, 1.5788e-01,\n",
       "         8.8427e-08, 9.9998e-01, 1.0000e+00, 1.4983e-07],\n",
       "        [9.9983e-01, 8.7133e-01, 1.2532e-08, 2.0566e-08, 3.6505e-03, 2.3791e-06,\n",
       "         6.2635e-08, 4.7679e-01, 1.0000e+00, 1.5628e-11]])"
      ]
     },
     "execution_count": 20,
     "metadata": {},
     "output_type": "execute_result"
    }
   ],
   "source": [
    "## Solution\n",
    "def activation(x):\n",
    "    return 1/(1+torch.exp(-x))\n",
    "\n",
    "# Flatten the input images\n",
    "inputs = images.view(images.shape[0], -1)\n",
    "\n",
    "# Create parameters\n",
    "w1 = torch.randn(784, 256)\n",
    "b1 = torch.randn(256)\n",
    "\n",
    "w2 = torch.randn(256, 10)\n",
    "b2 = torch.randn(10)\n",
    "\n",
    "h = activation(torch.mm(inputs, w1) + b1)\n",
    "\n",
    "out = activation(torch.mm(h, w2) + b2)\n",
    "out"
   ]
  },
  {
   "cell_type": "markdown",
   "metadata": {},
   "source": [
    "Now we have 10 outputs for our network. We want to pass in an image to our network and get out a probability distribution over the classes that tells us the likely class(es) the image belongs to. Something that looks like this:\n",
    "<img src='assets/image_distribution.png' width=500px>\n",
    "\n",
    "Here we see that the probability for each class is roughly the same. This is representing an untrained network, it hasn't seen any data yet so it just returns a uniform distribution with equal probabilities for each class.\n",
    "\n",
    "To calculate this probability distribution, we often use the [**softmax** function](https://en.wikipedia.org/wiki/Softmax_function). Mathematically this looks like\n",
    "\n",
    "$$\n",
    "\\Large \\sigma(x_i) = \\cfrac{e^{x_i}}{\\sum_k^K{e^{x_k}}}\n",
    "$$\n",
    "\n",
    "What this does is squish each input $x_i$ between 0 and 1 and normalizes the values to give you a proper probability distribution where the probabilites sum up to one.\n",
    "\n",
    "> **Exercise:** Implement a function `softmax` that performs the softmax calculation and returns probability distributions for each example in the batch. Note that you'll need to pay attention to the shapes when doing this. If you have a tensor `a` with shape `(64, 10)` and a tensor `b` with shape `(64,)`, doing `a/b` will give you an error because PyTorch will try to do the division across the columns (called broadcasting) but you'll get a size mismatch. The way to think about this is for each of the 64 examples, you only want to divide by one value, the sum in the denominator. So you need `b` to have a shape of `(64, 1)`. This way PyTorch will divide the 10 values in each row of `a` by the one value in each row of `b`. Pay attention to how you take the sum as well. You'll need to define the `dim` keyword in `torch.sum`. Setting `dim=0` takes the sum across the rows while `dim=1` takes the sum across the columns."
   ]
  },
  {
   "cell_type": "code",
   "execution_count": 21,
   "metadata": {},
   "outputs": [
    {
     "name": "stdout",
     "output_type": "stream",
     "text": [
      "torch.Size([64, 10])\n",
      "tensor([1.0000, 1.0000, 1.0000, 1.0000, 1.0000, 1.0000, 1.0000, 1.0000, 1.0000,\n",
      "        1.0000, 1.0000, 1.0000, 1.0000, 1.0000, 1.0000, 1.0000, 1.0000, 1.0000,\n",
      "        1.0000, 1.0000, 1.0000, 1.0000, 1.0000, 1.0000, 1.0000, 1.0000, 1.0000,\n",
      "        1.0000, 1.0000, 1.0000, 1.0000, 1.0000, 1.0000, 1.0000, 1.0000, 1.0000,\n",
      "        1.0000, 1.0000, 1.0000, 1.0000, 1.0000, 1.0000, 1.0000, 1.0000, 1.0000,\n",
      "        1.0000, 1.0000, 1.0000, 1.0000, 1.0000, 1.0000, 1.0000, 1.0000, 1.0000,\n",
      "        1.0000, 1.0000, 1.0000, 1.0000, 1.0000, 1.0000, 1.0000, 1.0000, 1.0000,\n",
      "        1.0000])\n"
     ]
    }
   ],
   "source": [
    "def softmax(x):\n",
    "    return torch.exp(x)/torch.sum(torch.exp(x), dim=1).view(-1, 1)\n",
    "\n",
    "# Here, out should be the output of the network in the previous excercise with shape (64,10)\n",
    "probabilities = softmax(out)\n",
    "\n",
    "# Does it have the right shape? Should be (64, 10)\n",
    "print(probabilities.shape)\n",
    "# Does it sum to 1?\n",
    "print(probabilities.sum(dim=1))"
   ]
  },
  {
   "cell_type": "markdown",
   "metadata": {},
   "source": [
    "## Building networks with PyTorch\n",
    "\n",
    "PyTorch provides a module `nn` that makes building networks much simpler. Here I'll show you how to build the same one as above with 784 inputs, 256 hidden units, 10 output units and a softmax output."
   ]
  },
  {
   "cell_type": "code",
   "execution_count": 22,
   "metadata": {},
   "outputs": [],
   "source": [
    "from torch import nn"
   ]
  },
  {
   "cell_type": "code",
   "execution_count": 23,
   "metadata": {},
   "outputs": [],
   "source": [
    "class Network(nn.Module):\n",
    "    def __init__(self):\n",
    "        super().__init__()\n",
    "        \n",
    "        # Inputs to hidden layer linear transformation\n",
    "        self.hidden = nn.Linear(784, 256)\n",
    "        # Output layer, 10 units - one for each digit\n",
    "        self.output = nn.Linear(256, 10)\n",
    "        \n",
    "        # Define sigmoid activation and softmax output \n",
    "        self.sigmoid = nn.Sigmoid()\n",
    "        self.softmax = nn.Softmax(dim=1)\n",
    "        \n",
    "    def forward(self, x):\n",
    "        # Pass the input tensor through each of our operations\n",
    "        x = self.hidden(x)\n",
    "        x = self.sigmoid(x)\n",
    "        x = self.output(x)\n",
    "        x = self.softmax(x)\n",
    "        \n",
    "        return x"
   ]
  },
  {
   "cell_type": "markdown",
   "metadata": {},
   "source": [
    "Let's go through this bit by bit.\n",
    "\n",
    "```python\n",
    "class Network(nn.Module):\n",
    "```\n",
    "\n",
    "Here we're inheriting from `nn.Module`. Combined with `super().__init__()` this creates a class that tracks the architecture and provides a lot of useful methods and attributes. It is mandatory to inherit from `nn.Module` when you're creating a class for your network. The name of the class itself can be anything.\n",
    "\n",
    "```python\n",
    "self.hidden = nn.Linear(784, 256)\n",
    "```\n",
    "\n",
    "This line creates a module for a linear transformation, $x\\mathbf{W} + b$, with 784 inputs and 256 outputs and assigns it to `self.hidden`. The module automatically creates the weight and bias tensors which we'll use in the `forward` method. You can access the weight and bias tensors once the network (`net`) is created with `net.hidden.weight` and `net.hidden.bias`.\n",
    "\n",
    "```python\n",
    "self.output = nn.Linear(256, 10)\n",
    "```\n",
    "\n",
    "Similarly, this creates another linear transformation with 256 inputs and 10 outputs.\n",
    "\n",
    "```python\n",
    "self.sigmoid = nn.Sigmoid()\n",
    "self.softmax = nn.Softmax(dim=1)\n",
    "```\n",
    "\n",
    "Here I defined operations for the sigmoid activation and softmax output. Setting `dim=1` in `nn.Softmax(dim=1)` calculates softmax across the columns.\n",
    "\n",
    "```python\n",
    "def forward(self, x):\n",
    "```\n",
    "\n",
    "PyTorch networks created with `nn.Module` must have a `forward` method defined. It takes in a tensor `x` and passes it through the operations you defined in the `__init__` method.\n",
    "\n",
    "```python\n",
    "x = self.hidden(x)\n",
    "x = self.sigmoid(x)\n",
    "x = self.output(x)\n",
    "x = self.softmax(x)\n",
    "```\n",
    "\n",
    "Here the input tensor `x` is passed through each operation and reassigned to `x`. We can see that the input tensor goes through the hidden layer, then a sigmoid function, then the output layer, and finally the softmax function. It doesn't matter what you name the variables here, as long as the inputs and outputs of the operations match the network architecture you want to build. The order in which you define things in the `__init__` method doesn't matter, but you'll need to sequence the operations correctly in the `forward` method.\n",
    "\n",
    "Now we can create a `Network` object."
   ]
  },
  {
   "cell_type": "code",
   "execution_count": 24,
   "metadata": {},
   "outputs": [
    {
     "data": {
      "text/plain": [
       "Network(\n",
       "  (hidden): Linear(in_features=784, out_features=256, bias=True)\n",
       "  (output): Linear(in_features=256, out_features=10, bias=True)\n",
       "  (sigmoid): Sigmoid()\n",
       "  (softmax): Softmax(dim=1)\n",
       ")"
      ]
     },
     "execution_count": 24,
     "metadata": {},
     "output_type": "execute_result"
    }
   ],
   "source": [
    "# Create the network and look at it's text representation\n",
    "model = Network()\n",
    "model"
   ]
  },
  {
   "cell_type": "markdown",
   "metadata": {},
   "source": [
    "You can define the network somewhat more concisely and clearly using the `torch.nn.functional` module. This is the most common way you'll see networks defined as many operations are simple element-wise functions. We normally import this module as `F`, `import torch.nn.functional as F`."
   ]
  },
  {
   "cell_type": "code",
   "execution_count": 25,
   "metadata": {},
   "outputs": [],
   "source": [
    "import torch.nn.functional as F\n",
    "\n",
    "class Network(nn.Module):\n",
    "    def __init__(self):\n",
    "        super().__init__()\n",
    "        # Inputs to hidden layer linear transformation\n",
    "        self.hidden = nn.Linear(784, 256)\n",
    "        # Output layer, 10 units - one for each digit\n",
    "        self.output = nn.Linear(256, 10)\n",
    "        \n",
    "    def forward(self, x):\n",
    "        # Hidden layer with sigmoid activation\n",
    "        x = F.sigmoid(self.hidden(x))\n",
    "        # Output layer with softmax activation\n",
    "        x = F.softmax(self.output(x), dim=1)\n",
    "        \n",
    "        return x"
   ]
  },
  {
   "cell_type": "markdown",
   "metadata": {},
   "source": [
    "### Activation functions\n",
    "\n",
    "So far we've only been looking at the sigmoid activation function, but in general any function can be used as an activation function. The only requirement is that for a network to approximate a non-linear function, the activation functions must be non-linear. Here are a few more examples of common activation functions: Tanh (hyperbolic tangent), and ReLU (rectified linear unit).\n",
    "\n",
    "<img src=\"assets/activation.png\" width=700px>\n",
    "\n",
    "In practice, the ReLU function is used almost exclusively as the activation function for hidden layers."
   ]
  },
  {
   "cell_type": "markdown",
   "metadata": {},
   "source": [
    "### Your Turn to Build a Network\n",
    "\n",
    "<img src=\"assets/mlp_mnist.png\" width=600px>\n",
    "\n",
    "> **Exercise:** Create a network with 784 input units, a hidden layer with 128 units and a ReLU activation, then a hidden layer with 64 units and a ReLU activation, and finally an output layer with a softmax activation as shown above. You can use a ReLU activation with the `nn.ReLU` module or `F.relu` function.\n",
    "\n",
    "It's good practice to name your layers by their type of network, for instance 'fc' to represent a fully-connected layer. As you code your solution, use `fc1`, `fc2`, and `fc3` as your layer names."
   ]
  },
  {
   "cell_type": "code",
   "execution_count": 35,
   "metadata": {
    "scrolled": true
   },
   "outputs": [
    {
     "data": {
      "text/plain": [
       "Network(\n",
       "  (fc1): Linear(in_features=784, out_features=128, bias=True)\n",
       "  (fc2): Linear(in_features=128, out_features=64, bias=True)\n",
       "  (fc3): Linear(in_features=64, out_features=10, bias=True)\n",
       ")"
      ]
     },
     "execution_count": 35,
     "metadata": {},
     "output_type": "execute_result"
    }
   ],
   "source": [
    "import torch.nn.functional as F\n",
    "\n",
    "class Network(nn.Module):\n",
    "    def __init__(self):\n",
    "        super().__init__()\n",
    "        self.fc1 = nn.Linear(784, 128)\n",
    "        self.fc2 = nn.Linear(128, 64)\n",
    "        self.fc3 = nn.Linear(64, 10)\n",
    "        \n",
    "    def forward(self, x):\n",
    "        # Hidden layer with sigmoid activation\n",
    "        x = F.relu(self.fc1(x))\n",
    "        x = F.relu(self.fc2(x))\n",
    "        # Output layer with softmax activation\n",
    "        x = F.softmax(self.fc3(x), dim=1)\n",
    "        \n",
    "        return self.fc3\n",
    "\n",
    "model = Network()\n",
    "model"
   ]
  },
  {
   "cell_type": "markdown",
   "metadata": {},
   "source": [
    "### Initializing weights and biases\n",
    "\n",
    "The weights and such are automatically initialized for you, but it's possible to customize how they are initialized. The weights and biases are tensors attached to the layer you defined, you can get them with `model.fc1.weight` for instance."
   ]
  },
  {
   "cell_type": "code",
   "execution_count": 36,
   "metadata": {},
   "outputs": [
    {
     "name": "stdout",
     "output_type": "stream",
     "text": [
      "Parameter containing:\n",
      "tensor([[ 0.0316, -0.0016, -0.0277,  ..., -0.0347, -0.0106,  0.0224],\n",
      "        [ 0.0173, -0.0089, -0.0312,  ...,  0.0196, -0.0149,  0.0331],\n",
      "        [ 0.0021, -0.0129, -0.0135,  ...,  0.0347, -0.0168,  0.0333],\n",
      "        ...,\n",
      "        [ 0.0111,  0.0098,  0.0011,  ..., -0.0282,  0.0078, -0.0216],\n",
      "        [ 0.0161, -0.0066,  0.0025,  ...,  0.0317,  0.0185,  0.0135],\n",
      "        [ 0.0258, -0.0164,  0.0131,  ..., -0.0182,  0.0149,  0.0068]],\n",
      "       requires_grad=True)\n",
      "Parameter containing:\n",
      "tensor([-2.6485e-02,  2.6819e-02, -2.9157e-03,  1.3954e-02, -1.1022e-02,\n",
      "         3.0611e-02, -1.0180e-02,  1.0601e-02, -1.8993e-03,  1.4682e-02,\n",
      "         8.1145e-03, -2.2479e-02, -1.9459e-02, -4.2574e-03,  8.2280e-03,\n",
      "        -2.2010e-02, -8.7971e-04,  7.5465e-03,  1.9646e-02,  3.2766e-02,\n",
      "        -5.9888e-03, -9.7106e-03, -1.6728e-02, -1.1137e-03,  2.5703e-03,\n",
      "        -1.8713e-03, -2.0040e-02,  3.2117e-02,  3.0196e-02, -2.6689e-02,\n",
      "        -2.6861e-02,  6.2413e-03, -2.4188e-02, -1.3659e-02,  1.8808e-02,\n",
      "         3.4722e-02,  1.6520e-02, -1.5668e-02, -8.7137e-03, -2.3472e-02,\n",
      "         3.2246e-02,  3.5486e-03, -2.3458e-02, -1.0720e-02,  3.2277e-02,\n",
      "         1.3858e-02,  4.2420e-03,  1.8557e-02,  1.0094e-02,  2.8516e-03,\n",
      "        -4.3011e-03,  1.4574e-02,  1.3217e-02,  2.2145e-02,  1.5653e-03,\n",
      "         1.6941e-02,  2.9676e-02, -2.3231e-02, -1.5323e-02, -3.9156e-03,\n",
      "        -9.9654e-04,  2.0943e-02,  3.0919e-02, -1.1239e-02,  5.4080e-05,\n",
      "         1.5523e-02, -2.3247e-02,  1.1599e-02,  3.3978e-02, -5.7873e-03,\n",
      "         1.1764e-02,  2.0001e-03, -4.4171e-03,  1.8819e-02,  1.8707e-02,\n",
      "         1.8021e-02,  1.3832e-02, -1.9761e-02, -8.9400e-03, -3.2332e-02,\n",
      "         3.4648e-02,  1.3838e-03,  2.9125e-02, -1.2712e-02, -3.1054e-03,\n",
      "         3.2605e-02,  2.6097e-02, -2.6071e-02,  8.2745e-03, -1.3914e-02,\n",
      "        -3.0182e-02, -1.2481e-03, -3.4883e-02,  2.7254e-02, -3.8546e-03,\n",
      "        -2.2074e-03,  1.0193e-02, -1.3966e-02,  1.3532e-03, -3.4797e-02,\n",
      "         2.0419e-02,  1.3387e-02, -2.8248e-02, -6.3491e-03,  3.1042e-03,\n",
      "         2.1313e-02, -2.4331e-02, -1.5192e-03,  3.2710e-02, -2.0953e-02,\n",
      "        -9.4056e-03,  3.5509e-02, -5.2009e-03,  3.4436e-02, -2.0913e-02,\n",
      "         1.5558e-02,  2.8554e-02, -2.9823e-03,  1.2245e-02, -2.4623e-02,\n",
      "         1.2668e-02,  2.0051e-03, -6.4886e-03,  5.3650e-03, -3.4206e-02,\n",
      "         2.1554e-02, -6.0176e-03, -1.1456e-02], requires_grad=True)\n"
     ]
    }
   ],
   "source": [
    "print(model.fc1.weight)\n",
    "print(model.fc1.bias)"
   ]
  },
  {
   "cell_type": "markdown",
   "metadata": {},
   "source": [
    "For custom initialization, we want to modify these tensors in place. These are actually autograd *Variables*, so we need to get back the actual tensors with `model.fc1.weight.data`. Once we have the tensors, we can fill them with zeros (for biases) or random normal values."
   ]
  },
  {
   "cell_type": "code",
   "execution_count": 37,
   "metadata": {},
   "outputs": [
    {
     "data": {
      "text/plain": [
       "tensor([0., 0., 0., 0., 0., 0., 0., 0., 0., 0., 0., 0., 0., 0., 0., 0., 0., 0., 0., 0., 0., 0., 0., 0.,\n",
       "        0., 0., 0., 0., 0., 0., 0., 0., 0., 0., 0., 0., 0., 0., 0., 0., 0., 0., 0., 0., 0., 0., 0., 0.,\n",
       "        0., 0., 0., 0., 0., 0., 0., 0., 0., 0., 0., 0., 0., 0., 0., 0., 0., 0., 0., 0., 0., 0., 0., 0.,\n",
       "        0., 0., 0., 0., 0., 0., 0., 0., 0., 0., 0., 0., 0., 0., 0., 0., 0., 0., 0., 0., 0., 0., 0., 0.,\n",
       "        0., 0., 0., 0., 0., 0., 0., 0., 0., 0., 0., 0., 0., 0., 0., 0., 0., 0., 0., 0., 0., 0., 0., 0.,\n",
       "        0., 0., 0., 0., 0., 0., 0., 0.])"
      ]
     },
     "execution_count": 37,
     "metadata": {},
     "output_type": "execute_result"
    }
   ],
   "source": [
    "# Set biases to all zeros\n",
    "model.fc1.bias.data.fill_(0)"
   ]
  },
  {
   "cell_type": "code",
   "execution_count": 38,
   "metadata": {},
   "outputs": [
    {
     "data": {
      "text/plain": [
       "tensor([[-7.1196e-04, -6.8508e-03, -3.7284e-03,  ...,  6.0934e-03,\n",
       "          1.7423e-02,  4.0400e-03],\n",
       "        [ 1.3492e-02, -1.0401e-02, -4.8704e-03,  ...,  1.7283e-02,\n",
       "          1.9988e-02,  1.0629e-02],\n",
       "        [-1.0198e-02,  7.6802e-03, -1.6303e-02,  ...,  3.5844e-03,\n",
       "          6.1034e-03, -2.1010e-03],\n",
       "        ...,\n",
       "        [ 7.8768e-03,  2.8410e-02,  6.5643e-03,  ..., -6.1547e-04,\n",
       "          2.1760e-02, -2.5913e-03],\n",
       "        [-1.2307e-03,  1.1250e-02, -3.3012e-05,  ..., -3.9176e-03,\n",
       "         -3.2644e-03,  7.3319e-03],\n",
       "        [-6.4762e-03, -1.9075e-02,  1.9385e-03,  ..., -6.1377e-03,\n",
       "          7.5224e-03, -1.0501e-02]])"
      ]
     },
     "execution_count": 38,
     "metadata": {},
     "output_type": "execute_result"
    }
   ],
   "source": [
    "# sample from random normal with standard dev = 0.01\n",
    "model.fc1.weight.data.normal_(std=0.01)"
   ]
  },
  {
   "cell_type": "markdown",
   "metadata": {},
   "source": [
    "### Forward pass\n",
    "\n",
    "Now that we have a network, let's see what happens when we pass in an image."
   ]
  },
  {
   "cell_type": "code",
   "execution_count": 39,
   "metadata": {},
   "outputs": [
    {
     "ename": "ModuleAttributeError",
     "evalue": "'Linear' object has no attribute 'data'",
     "output_type": "error",
     "traceback": [
      "\u001b[1;31m---------------------------------------------------------------------------\u001b[0m",
      "\u001b[1;31mModuleAttributeError\u001b[0m                      Traceback (most recent call last)",
      "\u001b[1;32m<ipython-input-39-3760ccc5c3dd>\u001b[0m in \u001b[0;36m<module>\u001b[1;34m\u001b[0m\n\u001b[0;32m     12\u001b[0m \u001b[1;33m\u001b[0m\u001b[0m\n\u001b[0;32m     13\u001b[0m \u001b[0mimg\u001b[0m \u001b[1;33m=\u001b[0m \u001b[0mimages\u001b[0m\u001b[1;33m[\u001b[0m\u001b[0mimg_idx\u001b[0m\u001b[1;33m]\u001b[0m\u001b[1;33m\u001b[0m\u001b[1;33m\u001b[0m\u001b[0m\n\u001b[1;32m---> 14\u001b[1;33m \u001b[0mhelper\u001b[0m\u001b[1;33m.\u001b[0m\u001b[0mview_classify\u001b[0m\u001b[1;33m(\u001b[0m\u001b[0mimg\u001b[0m\u001b[1;33m.\u001b[0m\u001b[0mview\u001b[0m\u001b[1;33m(\u001b[0m\u001b[1;36m1\u001b[0m\u001b[1;33m,\u001b[0m \u001b[1;36m28\u001b[0m\u001b[1;33m,\u001b[0m \u001b[1;36m28\u001b[0m\u001b[1;33m)\u001b[0m\u001b[1;33m,\u001b[0m \u001b[0mps\u001b[0m\u001b[1;33m)\u001b[0m\u001b[1;33m\u001b[0m\u001b[1;33m\u001b[0m\u001b[0m\n\u001b[0m",
      "\u001b[1;32mD:\\Documents\\Udacity\\deep-learning-v2-pytorch-master\\intro-to-pytorch\\helper.py\u001b[0m in \u001b[0;36mview_classify\u001b[1;34m(img, ps, version)\u001b[0m\n\u001b[0;32m     68\u001b[0m     ''' Function for viewing an image and it's predicted classes.\n\u001b[0;32m     69\u001b[0m     '''\n\u001b[1;32m---> 70\u001b[1;33m     \u001b[0mps\u001b[0m \u001b[1;33m=\u001b[0m \u001b[0mps\u001b[0m\u001b[1;33m.\u001b[0m\u001b[0mdata\u001b[0m\u001b[1;33m.\u001b[0m\u001b[0mnumpy\u001b[0m\u001b[1;33m(\u001b[0m\u001b[1;33m)\u001b[0m\u001b[1;33m.\u001b[0m\u001b[0msqueeze\u001b[0m\u001b[1;33m(\u001b[0m\u001b[1;33m)\u001b[0m\u001b[1;33m\u001b[0m\u001b[1;33m\u001b[0m\u001b[0m\n\u001b[0m\u001b[0;32m     71\u001b[0m \u001b[1;33m\u001b[0m\u001b[0m\n\u001b[0;32m     72\u001b[0m     \u001b[0mfig\u001b[0m\u001b[1;33m,\u001b[0m \u001b[1;33m(\u001b[0m\u001b[0max1\u001b[0m\u001b[1;33m,\u001b[0m \u001b[0max2\u001b[0m\u001b[1;33m)\u001b[0m \u001b[1;33m=\u001b[0m \u001b[0mplt\u001b[0m\u001b[1;33m.\u001b[0m\u001b[0msubplots\u001b[0m\u001b[1;33m(\u001b[0m\u001b[0mfigsize\u001b[0m\u001b[1;33m=\u001b[0m\u001b[1;33m(\u001b[0m\u001b[1;36m6\u001b[0m\u001b[1;33m,\u001b[0m\u001b[1;36m9\u001b[0m\u001b[1;33m)\u001b[0m\u001b[1;33m,\u001b[0m \u001b[0mncols\u001b[0m\u001b[1;33m=\u001b[0m\u001b[1;36m2\u001b[0m\u001b[1;33m)\u001b[0m\u001b[1;33m\u001b[0m\u001b[1;33m\u001b[0m\u001b[0m\n",
      "\u001b[1;32m~\\anaconda3\\envs\\deep-learning\\lib\\site-packages\\torch\\nn\\modules\\module.py\u001b[0m in \u001b[0;36m__getattr__\u001b[1;34m(self, name)\u001b[0m\n\u001b[0;32m    770\u001b[0m                 \u001b[1;32mreturn\u001b[0m \u001b[0mmodules\u001b[0m\u001b[1;33m[\u001b[0m\u001b[0mname\u001b[0m\u001b[1;33m]\u001b[0m\u001b[1;33m\u001b[0m\u001b[1;33m\u001b[0m\u001b[0m\n\u001b[0;32m    771\u001b[0m         raise ModuleAttributeError(\"'{}' object has no attribute '{}'\".format(\n\u001b[1;32m--> 772\u001b[1;33m             type(self).__name__, name))\n\u001b[0m\u001b[0;32m    773\u001b[0m \u001b[1;33m\u001b[0m\u001b[0m\n\u001b[0;32m    774\u001b[0m     \u001b[1;32mdef\u001b[0m \u001b[0m__setattr__\u001b[0m\u001b[1;33m(\u001b[0m\u001b[0mself\u001b[0m\u001b[1;33m,\u001b[0m \u001b[0mname\u001b[0m\u001b[1;33m:\u001b[0m \u001b[0mstr\u001b[0m\u001b[1;33m,\u001b[0m \u001b[0mvalue\u001b[0m\u001b[1;33m:\u001b[0m \u001b[0mUnion\u001b[0m\u001b[1;33m[\u001b[0m\u001b[0mTensor\u001b[0m\u001b[1;33m,\u001b[0m \u001b[1;34m'Module'\u001b[0m\u001b[1;33m]\u001b[0m\u001b[1;33m)\u001b[0m \u001b[1;33m->\u001b[0m \u001b[1;32mNone\u001b[0m\u001b[1;33m:\u001b[0m\u001b[1;33m\u001b[0m\u001b[1;33m\u001b[0m\u001b[0m\n",
      "\u001b[1;31mModuleAttributeError\u001b[0m: 'Linear' object has no attribute 'data'"
     ]
    }
   ],
   "source": [
    "# Grab some data \n",
    "dataiter = iter(trainloader)\n",
    "images, labels = dataiter.next()\n",
    "\n",
    "# Resize images into a 1D vector, new shape is (batch size, color channels, image pixels) \n",
    "images.resize_(64, 1, 784)\n",
    "# or images.resize_(images.shape[0], 1, 784) to automatically get batch size\n",
    "\n",
    "# Forward pass through the network\n",
    "img_idx = 0\n",
    "ps = model.forward(images[img_idx,:])\n",
    "\n",
    "img = images[img_idx]\n",
    "helper.view_classify(img.view(1, 28, 28), ps)"
   ]
  },
  {
   "cell_type": "markdown",
   "metadata": {},
   "source": [
    "As you can see above, our network has basically no idea what this digit is. It's because we haven't trained it yet, all the weights are random!\n",
    "\n",
    "### Using `nn.Sequential`\n",
    "\n",
    "PyTorch provides a convenient way to build networks like this where a tensor is passed sequentially through operations, `nn.Sequential` ([documentation](https://pytorch.org/docs/master/nn.html#torch.nn.Sequential)). Using this to build the equivalent network:"
   ]
  },
  {
   "cell_type": "code",
   "execution_count": 40,
   "metadata": {},
   "outputs": [
    {
     "name": "stdout",
     "output_type": "stream",
     "text": [
      "Sequential(\n",
      "  (0): Linear(in_features=784, out_features=128, bias=True)\n",
      "  (1): ReLU()\n",
      "  (2): Linear(in_features=128, out_features=64, bias=True)\n",
      "  (3): ReLU()\n",
      "  (4): Linear(in_features=64, out_features=10, bias=True)\n",
      "  (5): Softmax(dim=1)\n",
      ")\n"
     ]
    },
    {
     "data": {
      "image/png": "[encoded data removed]",
      "text/plain": [
       "<Figure size 432x648 with 2 Axes>"
      ]
     },
     "metadata": {
      "image/png": {
       "height": 235,
       "width": 424
      },
      "needs_background": "light"
     },
     "output_type": "display_data"
    }
   ],
   "source": [
    "# Hyperparameters for our network\n",
    "input_size = 784\n",
    "hidden_sizes = [128, 64]\n",
    "output_size = 10\n",
    "\n",
    "# Build a feed-forward network\n",
    "model = nn.Sequential(nn.Linear(input_size, hidden_sizes[0]),\n",
    "                      nn.ReLU(),\n",
    "                      nn.Linear(hidden_sizes[0], hidden_sizes[1]),\n",
    "                      nn.ReLU(),\n",
    "                      nn.Linear(hidden_sizes[1], output_size),\n",
    "                      nn.Softmax(dim=1))\n",
    "print(model)\n",
    "\n",
    "# Forward pass through the network and display output\n",
    "images, labels = next(iter(trainloader))\n",
    "images.resize_(images.shape[0], 1, 784)\n",
    "ps = model.forward(images[0,:])\n",
    "helper.view_classify(images[0].view(1, 28, 28), ps)"
   ]
  },
  {
   "cell_type": "markdown",
   "metadata": {},
   "source": [
    "Here our model is the same as before: 784 input units, a hidden layer with 128 units, ReLU activation, 64 unit hidden layer, another ReLU, then the output layer with 10 units, and the softmax output.\n",
    "\n",
    "The operations are available by passing in the appropriate index. For example, if you want to get first Linear operation and look at the weights, you'd use `model[0]`."
   ]
  },
  {
   "cell_type": "code",
   "execution_count": 41,
   "metadata": {},
   "outputs": [
    {
     "name": "stdout",
     "output_type": "stream",
     "text": [
      "Linear(in_features=784, out_features=128, bias=True)\n"
     ]
    },
    {
     "data": {
      "text/plain": [
       "Parameter containing:\n",
       "tensor([[ 0.0133, -0.0049,  0.0247,  ..., -0.0311, -0.0158,  0.0166],\n",
       "        [ 0.0113, -0.0279,  0.0104,  ..., -0.0194,  0.0019, -0.0047],\n",
       "        [-0.0112,  0.0332,  0.0157,  ..., -0.0031,  0.0085,  0.0233],\n",
       "        ...,\n",
       "        [ 0.0298, -0.0330,  0.0276,  ..., -0.0248, -0.0329,  0.0019],\n",
       "        [ 0.0268,  0.0241, -0.0123,  ..., -0.0031, -0.0238,  0.0227],\n",
       "        [ 0.0283, -0.0093,  0.0024,  ...,  0.0106, -0.0008, -0.0041]],\n",
       "       requires_grad=True)"
      ]
     },
     "execution_count": 41,
     "metadata": {},
     "output_type": "execute_result"
    }
   ],
   "source": [
    "print(model[0])\n",
    "model[0].weight"
   ]
  },
  {
   "cell_type": "markdown",
   "metadata": {},
   "source": [
    "You can also pass in an `OrderedDict` to name the individual layers and operations, instead of using incremental integers. Note that dictionary keys must be unique, so _each operation must have a different name_."
   ]
  },
  {
   "cell_type": "code",
   "execution_count": 42,
   "metadata": {},
   "outputs": [
    {
     "data": {
      "text/plain": [
       "Sequential(\n",
       "  (fc1): Linear(in_features=784, out_features=128, bias=True)\n",
       "  (relu1): ReLU()\n",
       "  (fc2): Linear(in_features=128, out_features=64, bias=True)\n",
       "  (relu2): ReLU()\n",
       "  (output): Linear(in_features=64, out_features=10, bias=True)\n",
       "  (softmax): Softmax(dim=1)\n",
       ")"
      ]
     },
     "execution_count": 42,
     "metadata": {},
     "output_type": "execute_result"
    }
   ],
   "source": [
    "from collections import OrderedDict\n",
    "model = nn.Sequential(OrderedDict([\n",
    "                      ('fc1', nn.Linear(input_size, hidden_sizes[0])),\n",
    "                      ('relu1', nn.ReLU()),\n",
    "                      ('fc2', nn.Linear(hidden_sizes[0], hidden_sizes[1])),\n",
    "                      ('relu2', nn.ReLU()),\n",
    "                      ('output', nn.Linear(hidden_sizes[1], output_size)),\n",
    "                      ('softmax', nn.Softmax(dim=1))]))\n",
    "model"
   ]
  },
  {
   "cell_type": "markdown",
   "metadata": {},
   "source": [
    "Now you can access layers either by integer or the name"
   ]
  },
  {
   "cell_type": "code",
   "execution_count": 43,
   "metadata": {},
   "outputs": [
    {
     "name": "stdout",
     "output_type": "stream",
     "text": [
      "Linear(in_features=784, out_features=128, bias=True)\n",
      "Linear(in_features=784, out_features=128, bias=True)\n"
     ]
    }
   ],
   "source": [
    "print(model[0])\n",
    "print(model.fc1)"
   ]
  },
  {
   "cell_type": "markdown",
   "metadata": {},
   "source": [
    "In the next notebook, we'll see how we can train a neural network to accuractly predict the numbers appearing in the MNIST images."
   ]
  }
 ],
 "metadata": {
  "kernelspec": {
   "display_name": "Python 3",
   "language": "python",
   "name": "python3"
  },
  "language_info": {
   "codemirror_mode": {
    "name": "ipython",
    "version": 3
   },
   "file_extension": ".py",
   "mimetype": "text/x-python",
   "name": "python",
   "nbconvert_exporter": "python",
   "pygments_lexer": "ipython3",
   "version": "3.7.11"
  }
 },
 "nbformat": 4,
 "nbformat_minor": 2
}
